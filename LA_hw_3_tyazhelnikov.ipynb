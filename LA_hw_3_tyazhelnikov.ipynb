{
 "cells": [
  {
   "cell_type": "markdown",
   "id": "55bd172d",
   "metadata": {},
   "source": [
    "1. Найти собственные векторы и собственные значения для линейного оператора, заданного матрицей 𝐴=(−12−66). "
   ]
  },
  {
   "cell_type": "code",
   "execution_count": 1,
   "id": "c02ffa4d",
   "metadata": {},
   "outputs": [],
   "source": [
    "import numpy as np"
   ]
  },
  {
   "cell_type": "code",
   "execution_count": 6,
   "id": "c6187e49",
   "metadata": {},
   "outputs": [
    {
     "name": "stdout",
     "output_type": "stream",
     "text": [
      "[[-1 -6]\n",
      " [ 2  6]]\n",
      "[2. 3.]\n",
      "[[-0.89442719  0.83205029]\n",
      " [ 0.4472136  -0.5547002 ]]\n"
     ]
    }
   ],
   "source": [
    "a = np.array([[-1, -6], [2, 6]])\n",
    "w, v = np.linalg.eig(a)\n",
    "print(a)\n",
    "print(w)\n",
    "print(v)"
   ]
  },
  {
   "cell_type": "markdown",
   "id": "9ac8b5e8",
   "metadata": {},
   "source": [
    "(-1 - lambda)(6 - lambda) + 12 = 0\n",
    "(-x - 1)(-x + 6) + 12 = 0\n",
    "x^2 + x - 6x - 6 + 12 = 0 => x^2 - 5x +6 = 0, корни 2 и 3 => lambda = 2 и 3\n",
    "lambda = 2:\n",
    "-1 x1 - 6 x2 = 2 x1 => -3 x1 - 6 x2 = 0 => x1 = - 2 x2\n",
    "2 x1 + 6 x2 = 2 x2 => x2 = - 0.5 x1\n",
    "пусть x2 = 1\n",
    "собственные вектора = [-2, 1]\n",
    "lambda = 3:\n",
    "-1 x1 - 6 x2 = 3 x1 => -4 x1 - 6 x2 = 0 => x1 = - 1,5 x2\n",
    "2 x1 + 6 x2 = 3 x2 => x2 = - 2/3 x1\n",
    "пусть x2 = 1\n",
    "собственные вектора = [-1,5 , 1]"
   ]
  },
  {
   "cell_type": "markdown",
   "id": "1a5c3926",
   "metadata": {},
   "source": [
    "2. Дан оператор поворота на 180 градусов, задаваемый матрицей\n",
    "𝐴=(−100−1). \n",
    "Показать, что любой вектор является для него собственным.\n",
    "при развороте на 180 градусов мы получаем коллинеарные вектора с отрицательным знаком, что соответствует определению собственного вектора (изменяет длину оператора, но не направление)"
   ]
  },
  {
   "cell_type": "markdown",
   "id": "d925ad2f",
   "metadata": {},
   "source": [
    "3. Пусть линейный оператор задан матрицей\n",
    "𝐴=(1−113). \n",
    "Установить, является ли вектор  𝑥=(1,1)  собственным вектором этого линейного оператора."
   ]
  },
  {
   "cell_type": "code",
   "execution_count": 3,
   "id": "f7370e60",
   "metadata": {},
   "outputs": [
    {
     "data": {
      "text/plain": [
       "array([[ 1,  1],\n",
       "       [-1,  3]])"
      ]
     },
     "execution_count": 3,
     "metadata": {},
     "output_type": "execute_result"
    }
   ],
   "source": [
    "b = np.array([[1, 1], [-1, 3]])\n",
    "b"
   ]
  },
  {
   "cell_type": "markdown",
   "id": "c00f4427",
   "metadata": {},
   "source": [
    "1 + 1 = lambda => lambda = 2\n",
    "-1 + 3 = lambda => lambda = 2\n",
    "является собственным"
   ]
  },
  {
   "cell_type": "markdown",
   "id": "7b6fbc55",
   "metadata": {},
   "source": [
    "4. Пусть линейный оператор задан матрицей\n",
    "𝐴=⎛⎝⎜⎜030300003⎞⎠⎟⎟. \n",
    "Установить, является ли вектор  𝑥=(3,−3,−4)  собственным вектором этого линейного оператора."
   ]
  },
  {
   "cell_type": "code",
   "execution_count": 6,
   "id": "2b6a4def",
   "metadata": {},
   "outputs": [
    {
     "name": "stdout",
     "output_type": "stream",
     "text": [
      "[[0 3 0]\n",
      " [3 0 0]\n",
      " [0 0 3]]\n",
      "[[ 3]\n",
      " [-3]\n",
      " [-4]]\n"
     ]
    }
   ],
   "source": [
    "c = np.array([[0, 3, 0], [3, 0, 0], [0, 0, 3]])\n",
    "d = np.array([[3], [-3], [-4]])\n",
    "print(c)\n",
    "print(d)"
   ]
  },
  {
   "cell_type": "markdown",
   "id": "1a7d9332",
   "metadata": {},
   "source": [
    "-9 = 3 lambda => lambda = -3\n",
    "9 = -3 lambda => lambda = -3\n",
    "-12 = -4 lambda => lambda = 3\n",
    "не является собственным"
   ]
  }
 ],
 "metadata": {
  "kernelspec": {
   "display_name": "Python 3",
   "language": "python",
   "name": "python3"
  },
  "language_info": {
   "codemirror_mode": {
    "name": "ipython",
    "version": 3
   },
   "file_extension": ".py",
   "mimetype": "text/x-python",
   "name": "python",
   "nbconvert_exporter": "python",
   "pygments_lexer": "ipython3",
   "version": "3.8.8"
  }
 },
 "nbformat": 4,
 "nbformat_minor": 5
}
