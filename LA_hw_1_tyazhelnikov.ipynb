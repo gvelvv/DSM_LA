{
 "cells": [
  {
   "cell_type": "markdown",
   "id": "d78dffb2",
   "metadata": {},
   "source": [
    "Часть 1. \n",
    "1. Исследовать на линейную зависимость:\n",
    "𝑓1(𝑥)=𝑒^𝑥,𝑓2(𝑥)=1,𝑓3(𝑥)=𝑥+1,𝑓4(𝑥)=𝑥−𝑒^𝑥\n",
    "f3(x) = x + f2(x) => f3(x) и f2(x) линейно зависимы\n",
    "f4(x) = x - f1(x) => f4(x) и f1(x) линейно зависимы"
   ]
  },
  {
   "cell_type": "markdown",
   "id": "c544bcbc",
   "metadata": {},
   "source": [
    "2. Исследовать на линейную зависимость: 𝑓1(𝑥)=2,𝑓2(𝑥)=𝑥,𝑓3(𝑥)=𝑥^2,𝑓4(𝑥)=(𝑥+1)^2 \n",
    "f4(x) = x^2 + 2x + 1\n",
    "f4(x) = 𝑓3(𝑥) + 2𝑓2(𝑥) + 0.5 𝑓1(𝑥) => все вектора линейно зависимы"
   ]
  },
  {
   "cell_type": "markdown",
   "id": "2c7b28fe",
   "metadata": {},
   "source": [
    "3. Найти координаты вектора  𝑥=(2,3,5)∈ℝ3  в базисе  𝑏1=(0,0,10) ,  𝑏2=(2,0,0) ,  𝑏3=(0,1,0) .\n",
    "x = (b2, 3 b3, 0.5 b1)"
   ]
  },
  {
   "cell_type": "markdown",
   "id": "4c0b2c43",
   "metadata": {},
   "source": [
    "4. Найти координаты вектора  3𝑥^2−2𝑥+2∈ℝ3[𝑥] :\n",
    "а) в базисе  1 ,  𝑥 ,  𝑥^2 ;\n",
    "x = (2, -2, 3)\n",
    "б) в базисе  𝑥^2 ,  𝑥−1 ,  1 .\n",
    "ч = (3, -2, 0)"
   ]
  },
  {
   "cell_type": "markdown",
   "id": "1b49d778",
   "metadata": {},
   "source": [
    "Часть 2.\n",
    "1. Найти скалярное произведение векторов  𝑥,𝑦∈ℝ :\n",
    "а)  𝑥=(0,−3,6), 𝑦=(−4,7,9); \n",
    "(x, y) = -21 + 54 = 33\n",
    "б)  𝑥=(7,−4,0,1), 𝑦=(−3,1,11,2). \n",
    "(x, y) = -21 - 4 + 2 = -23 "
   ]
  },
  {
   "cell_type": "code",
   "execution_count": 14,
   "id": "1856cf4b",
   "metadata": {},
   "outputs": [],
   "source": [
    "import numpy as np\n",
    "from numpy.linalg import norm\n",
    "from math import acos"
   ]
  },
  {
   "cell_type": "code",
   "execution_count": 6,
   "id": "036f9517",
   "metadata": {},
   "outputs": [
    {
     "data": {
      "text/plain": [
       "33"
      ]
     },
     "execution_count": 6,
     "metadata": {},
     "output_type": "execute_result"
    }
   ],
   "source": [
    "a_1 = np.array([0, -3, 6])\n",
    "b_1 = np.array([-4, 7, 9])\n",
    "c_1 = a_1 @ b_1\n",
    "c_1"
   ]
  },
  {
   "cell_type": "code",
   "execution_count": 7,
   "id": "764519b4",
   "metadata": {},
   "outputs": [
    {
     "data": {
      "text/plain": [
       "-23"
      ]
     },
     "execution_count": 7,
     "metadata": {},
     "output_type": "execute_result"
    }
   ],
   "source": [
    "a_2 = np.array([7, -4, 0, 1])\n",
    "b_2 = np.array([-3, 1, 11, 2])\n",
    "c_2 = a_2 @ b_2\n",
    "c_2"
   ]
  },
  {
   "cell_type": "markdown",
   "id": "bed8b451",
   "metadata": {},
   "source": [
    "2. Найти нормы векторов  (4,2,4)  и  (12,3,4)  и угол между ними."
   ]
  },
  {
   "cell_type": "code",
   "execution_count": 19,
   "id": "7fed7cfe",
   "metadata": {},
   "outputs": [
    {
     "name": "stdout",
     "output_type": "stream",
     "text": [
      "l1 norm a = 10.0\n",
      "l2 norm a = 6.0\n",
      "l1 norm b = 19.0\n",
      "l2 norm b = 13.0\n"
     ]
    },
    {
     "data": {
      "text/plain": [
       "26.176952171666557"
      ]
     },
     "execution_count": 19,
     "metadata": {},
     "output_type": "execute_result"
    }
   ],
   "source": [
    "a_3 = np.array([4, 2, 4])\n",
    "b_3 = np.array([12, 3, 4])\n",
    "print(f'l1 norm a = {norm(a_3, ord=1)}')\n",
    "print(f'l2 norm a = {norm(a_3, ord=2)}')\n",
    "print(f'l1 norm b = {norm(b_3, ord=1)}')\n",
    "print(f'l2 norm b = {norm(b_3, ord=2)}')\n",
    "angle = np.degrees(acos(np.dot(a_3, b_3) / norm(a_3) / norm(b_3)))\n",
    "angle"
   ]
  },
  {
   "cell_type": "markdown",
   "id": "12aebf35",
   "metadata": {},
   "source": [
    "3. Будет ли линейное пространство евклидовым, если за скалярное произведение принять:\n",
    "а) произведение длин векторов;\n",
    "нет, не будет, не хватает косинуса\n",
    "б) утроенное обычное скалярное произведение векторов?\n",
    "будет, умножение на константу сохраняет евлидность"
   ]
  },
  {
   "cell_type": "markdown",
   "id": "741a48cf",
   "metadata": {},
   "source": [
    "4. Какие из нижеперечисленных векторов образуют ортонормированный базис в линейном пространстве  ℝ3 :\n",
    "а)  (1,0,0),(0,0,1);  \n",
    "Произведение векторов дает 0, так что вектора ортогональны. У вектора есть ненулевая норма, таким образом вектора являются ортонормированными в двумерном пространстве. В трехмерном пространстве отсустсвует третий базис, поэтому ортогональность в трехмерном пространстве - вопрос философский.\n",
    "\n",
    "б)  (1/√2‾,−1/√2‾,0),(1/√2‾,1/√2‾,0),(0,0,1); \n",
    "Произведение векторов = 0, значит вектора ортогональны, их нормы равны, значит вектора ортонормированы.\n",
    "\n",
    "в)  (1/2,−1/2,0),(0,1/2,1/2),(0,0,1); (x, -x, 0), (0, x, x), (0, 0, 1)\n",
    "Произведение векторов = 0, значит вектора ортогональны, их нормы не равны, значит вектора не ортонормированы.\n",
    "\n",
    "\n",
    "г)  (1,0,0),(0,1,0),(0,0,1)? \n",
    "Классика ортонормированного базиса"
   ]
  }
 ],
 "metadata": {
  "kernelspec": {
   "display_name": "Python 3",
   "language": "python",
   "name": "python3"
  },
  "language_info": {
   "codemirror_mode": {
    "name": "ipython",
    "version": 3
   },
   "file_extension": ".py",
   "mimetype": "text/x-python",
   "name": "python",
   "nbconvert_exporter": "python",
   "pygments_lexer": "ipython3",
   "version": "3.8.8"
  }
 },
 "nbformat": 4,
 "nbformat_minor": 5
}
