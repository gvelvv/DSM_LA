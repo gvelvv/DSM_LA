{
 "cells": [
  {
   "cell_type": "markdown",
   "id": "56f58a0d",
   "metadata": {},
   "source": [
    "Часть 1\n",
    "1. Установить, какие произведения матриц  𝐴𝐵  и  𝐵𝐴  определены, и найти размерности полученных матриц:\n",
    "а)  𝐴  — матрица  4×2 ,  𝐵  — матрица  4×2 ;\n",
    "оба произведения не определены\n",
    "б)  𝐴  — матрица  2×5 ,  𝐵  — матрица  5×3 ;\n",
    "АВ определена, размерность 5, ВА не определена\n",
    "в)  𝐴  — матрица  8×3 ,  𝐵  — матрица  3×8 ;\n",
    "АВ определена, размерность 3, ВА определена, размерность 8\n",
    "г)  𝐴  — квадратная матрица  4×4 ,  𝐵  — квадратная матрица  4×4 .\n",
    "Оба произведения определены, размерности 4"
   ]
  },
  {
   "cell_type": "markdown",
   "id": "aaab5689",
   "metadata": {},
   "source": [
    "2. Найти сумму и произведение матриц  𝐴=(13−20)  и  𝐵=(40−15). "
   ]
  },
  {
   "cell_type": "code",
   "execution_count": 15,
   "id": "ad616756",
   "metadata": {},
   "outputs": [],
   "source": [
    "import numpy as np\n",
    "import scipy.linalg"
   ]
  },
  {
   "cell_type": "code",
   "execution_count": 10,
   "id": "e85833e8",
   "metadata": {},
   "outputs": [
    {
     "name": "stdout",
     "output_type": "stream",
     "text": [
      "Сумма матриц АВ\n",
      "[[ 5 -3]\n",
      " [ 3  5]]\n",
      "Произведение матриц АВ\n",
      "[[  4 -11]\n",
      " [ 12  -3]]\n",
      "Произведение матриц BA\n",
      "[[ 1 -8]\n",
      " [15  0]]\n"
     ]
    }
   ],
   "source": [
    "a = np.array([[1, -2], [3, 0]])\n",
    "b = np.array([[4, -1], [0, 5]])\n",
    "print(f'Сумма матриц АВ\\n{a + b}')\n",
    "print(f'Произведение матриц АВ\\n{a @ b}')\n",
    "print(f'Произведение матриц BA\\n{b @ a}')"
   ]
  },
  {
   "cell_type": "markdown",
   "id": "741600d9",
   "metadata": {},
   "source": [
    "3. Из закономерностей сложения и умножения матриц на число можно сделать вывод, что матрицы одного размера образуют линейное пространство. Вычислить линейную комбинацию  3𝐴−2𝐵+4𝐶  для матриц  𝐴=(137−6) ,  𝐵=(025−1) ,  𝐶=(21−41). "
   ]
  },
  {
   "cell_type": "code",
   "execution_count": 11,
   "id": "589be7e4",
   "metadata": {},
   "outputs": [
    {
     "data": {
      "text/plain": [
       "array([[ 11,  -5],\n",
       "       [  9, -12]])"
      ]
     },
     "execution_count": 11,
     "metadata": {},
     "output_type": "execute_result"
    }
   ],
   "source": [
    "a_1 = np.array([[1, 7], [3, -6]])\n",
    "b_1 = np.array([[0, 5], [2, -1]])\n",
    "c_1 = np.array([[2, -4], [1, 1]])\n",
    "d_1 = 3 * a_1 - 2 * b_1 + 4 * c_1\n",
    "d_1"
   ]
  },
  {
   "cell_type": "markdown",
   "id": "7ac9a8f1",
   "metadata": {},
   "source": [
    "4. Дана матрица  𝐴=⎛⎝⎜⎜4521−23⎞⎠⎟⎟ . Вычислить  𝐴𝐴𝑇  и  𝐴𝑇𝐴 ."
   ]
  },
  {
   "cell_type": "code",
   "execution_count": 14,
   "id": "822a0e75",
   "metadata": {},
   "outputs": [
    {
     "name": "stdout",
     "output_type": "stream",
     "text": [
      "Произведение матриц АAT\n",
      "[[17 18 11]\n",
      " [18 29  4]\n",
      " [11  4 13]]\n",
      "Произведение матриц АTA\n",
      "[[45  0]\n",
      " [ 0 14]]\n"
     ]
    }
   ],
   "source": [
    "a_2 = np.array([[4, 1], [5, -2], [2, 3]])\n",
    "print(f'Произведение матриц АAT\\n{a_2 @ a_2.T}')\n",
    "print(f'Произведение матриц АTA\\n{a_2.T @ a_2}')"
   ]
  },
  {
   "cell_type": "markdown",
   "id": "78617800",
   "metadata": {},
   "source": [
    "5. Написать на Python функцию для перемножения двух произвольных матриц, не используя NumPy."
   ]
  },
  {
   "cell_type": "code",
   "execution_count": 293,
   "id": "0f7983cc",
   "metadata": {},
   "outputs": [],
   "source": [
    "def trans (a, b):\n",
    "    stringa = len(a)\n",
    "    stringb = len(b)\n",
    "    columna = 0\n",
    "    columnb = 0\n",
    "    str_lengtha = []\n",
    "    str_lengthb = []\n",
    "    for i in a:\n",
    "        columna = len(i)\n",
    "        str_lengtha.append(columna) \n",
    "    for k in b:\n",
    "        columnb = len(k)\n",
    "        str_lengthb.append(columnb)\n",
    "    for j in range(0, stringa-1):\n",
    "        if str_lengtha[j] != str_lengtha[j+1]:\n",
    "            print('Первая матрица не прямоугольная')\n",
    "    for m in range(0, stringb-1):\n",
    "        if str_lengthb[m] != str_lengthb[m+1]:\n",
    "            print(str_lengthb)\n",
    "            print('Вторая матрица не прямоугольная')\n",
    "    if columna != stringb:\n",
    "        print(\"количество столбцов первой матрицы не совпадает с количеством строк второй\")\n",
    "    b_tr = []\n",
    "    for l in range(0, columnb):\n",
    "        b_tr_str = []\n",
    "        for n in b:\n",
    "            b_tr_str.append(n[l])\n",
    "        b_tr.append(b_tr_str)\n",
    "    c = []\n",
    "    for r in a:\n",
    "        matr_unit = []\n",
    "        for s in b_tr:\n",
    "            unit = 0\n",
    "            sum_unit = 0\n",
    "            for f in range(0, columna):\n",
    "                unit = r[f] * s[f]\n",
    "                sum_unit = sum_unit + unit\n",
    "            matr_unit.append(sum_unit)\n",
    "        c.append(matr_unit)\n",
    "    return c"
   ]
  },
  {
   "cell_type": "code",
   "execution_count": 298,
   "id": "b00f076e",
   "metadata": {},
   "outputs": [
    {
     "name": "stdout",
     "output_type": "stream",
     "text": [
      "[[16 22 29]\n",
      " [24 33 46]\n",
      " [42 56 95]]\n"
     ]
    },
    {
     "data": {
      "text/plain": [
       "[[16, 22, 29], [24, 33, 46], [42, 56, 95]]"
      ]
     },
     "execution_count": 298,
     "metadata": {},
     "output_type": "execute_result"
    }
   ],
   "source": [
    "x = ([[1, 2, 3], [2, 3, 4], [5, 7, 2]])\n",
    "y = ([[2, 3, 7], [4, 5, 8], [2, 3, 2]])\n",
    "x_1 = np.array([[1, 2, 3], [2, 3, 4], [5, 7, 2]])\n",
    "y_1 = np.array([[2, 3, 7], [4, 5, 8], [2, 3, 2]])\n",
    "g = trans(x, y)\n",
    "d = x_1.dot(y_1)\n",
    "print(d)\n",
    "g"
   ]
  },
  {
   "cell_type": "markdown",
   "id": "7a163dcb",
   "metadata": {},
   "source": [
    "Часть 2.\n",
    "1. Вычислить определитель:\n",
    "a)\n",
    "∣∣∣𝑠𝑖𝑛𝑥𝑐𝑜𝑠𝑥−𝑐𝑜𝑠𝑥𝑠𝑖𝑛𝑥∣∣∣; \n",
    "sin^2x + cos^2x = 1\n",
    "б)\n",
    "∣∣∣∣∣400250319∣∣∣∣∣; \n",
    "4 * 5 * 9 = 180\n",
    "в)\n",
    "∣∣∣∣∣147258369∣∣∣∣∣. \n",
    "0"
   ]
  },
  {
   "cell_type": "code",
   "execution_count": 17,
   "id": "2617e636",
   "metadata": {},
   "outputs": [
    {
     "data": {
      "text/plain": [
       "-9.51619735392994e-16"
      ]
     },
     "execution_count": 17,
     "metadata": {},
     "output_type": "execute_result"
    }
   ],
   "source": [
    "a_3 = np.array([[1, 2, 3], [4, 5, 6], [7, 8, 9]])\n",
    "defa3 = np.linalg.det(a_3)\n",
    "defa3"
   ]
  },
  {
   "cell_type": "markdown",
   "id": "5d435141",
   "metadata": {},
   "source": [
    "2. Определитель матрицы  𝐴  равен  4 . Найти:\n",
    "а)  𝑑𝑒𝑡(𝐴^2) ;\n",
    "16\n",
    "б)  𝑑𝑒𝑡(𝐴𝑇) ;\n",
    "4\n",
    "в)  𝑑𝑒𝑡(2𝐴) .\n",
    "= 8n, где n - порядок матрицы"
   ]
  },
  {
   "cell_type": "markdown",
   "id": "24d7d50c",
   "metadata": {},
   "source": [
    "3. Доказать, что матрица\n",
    "⎛⎝⎜⎜−24−37−147−3613⎞⎠⎟⎟ \n",
    "вырожденная"
   ]
  },
  {
   "cell_type": "code",
   "execution_count": 18,
   "id": "a355f8e9",
   "metadata": {},
   "outputs": [
    {
     "data": {
      "text/plain": [
       "0.0"
      ]
     },
     "execution_count": 18,
     "metadata": {},
     "output_type": "execute_result"
    }
   ],
   "source": [
    "a_4 = np.array([[-2, 7, -3], [4, -14, 6], [-3, 7, 13]])\n",
    "defa4 = np.linalg.det(a_4)\n",
    "defa4"
   ]
  },
  {
   "cell_type": "markdown",
   "id": "7ec8e02c",
   "metadata": {},
   "source": [
    "4. Найти ранг матрицы:\n",
    "а)  ⎛⎝⎜⎜112213314⎞⎠⎟⎟; \n",
    "ранг 2, тк третья строка - сумма первых\n",
    "б)  ⎛⎝⎜⎜⎜⎜0002000322451236⎞⎠⎟⎟⎟⎟. \n",
    "ранг 3 так как третья стока - сумма первых двух"
   ]
  },
  {
   "cell_type": "code",
   "execution_count": 23,
   "id": "ef9b8d9f",
   "metadata": {},
   "outputs": [
    {
     "data": {
      "text/plain": [
       "3"
      ]
     },
     "execution_count": 23,
     "metadata": {},
     "output_type": "execute_result"
    }
   ],
   "source": [
    "a_5 = np.array([[1, 2, 3], [1, 1, 1], [2, 3, 4]])\n",
    "a_6 = np.array([[0, 0, 2, 1], [0, 0, 2, 2], [0, 0, 4, 3], [2, 3, 5, 6]])\n",
    "ranka5 = np.linalg.matrix_rank(a_5)\n",
    "ranka6 = np.linalg.matrix_rank(a_6)\n",
    "ranka6"
   ]
  },
  {
   "cell_type": "code",
   "execution_count": null,
   "id": "a16323e1",
   "metadata": {},
   "outputs": [],
   "source": []
  }
 ],
 "metadata": {
  "kernelspec": {
   "display_name": "Python 3",
   "language": "python",
   "name": "python3"
  },
  "language_info": {
   "codemirror_mode": {
    "name": "ipython",
    "version": 3
   },
   "file_extension": ".py",
   "mimetype": "text/x-python",
   "name": "python",
   "nbconvert_exporter": "python",
   "pygments_lexer": "ipython3",
   "version": "3.8.8"
  }
 },
 "nbformat": 4,
 "nbformat_minor": 5
}
