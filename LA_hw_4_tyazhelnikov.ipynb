{
 "cells": [
  {
   "cell_type": "markdown",
   "id": "6b7769e7",
   "metadata": {},
   "source": [
    "Часть 1\n",
    "1. Решить систему уравнений методом Гаусса:\n",
    "⎧⎩⎨⎪⎪𝑥1+𝑥2−𝑥3−2𝑥4=0,2𝑥1+𝑥2−𝑥3+𝑥4=−2,𝑥1+𝑥2−3𝑥3+𝑥4=4. "
   ]
  },
  {
   "cell_type": "code",
   "execution_count": 1,
   "id": "eeae5e6d",
   "metadata": {},
   "outputs": [],
   "source": [
    "import numpy as np\n",
    "import numpy.linalg\n",
    "import scipy.linalg"
   ]
  },
  {
   "cell_type": "code",
   "execution_count": 23,
   "id": "bc77b95d",
   "metadata": {},
   "outputs": [
    {
     "name": "stdout",
     "output_type": "stream",
     "text": [
      "[[ 1  1 -1 -2  0]\n",
      " [ 2  1 -1  1 -2]\n",
      " [ 1  1 -3  1  4]]\n",
      "[[ 1  1 -1 -2  0]\n",
      " [ 0 -1  1  5 -2]\n",
      " [ 0  0 -2  3  4]]\n"
     ]
    }
   ],
   "source": [
    "a_1 = np.array([1, 1, -1, -2, 0])\n",
    "a_2 = np.array([2, 1, -1, 1, -2])\n",
    "a_3 = np.array([1, 1, -3, 1, 4])\n",
    "a = np.array([a_1, a_2, a_3])\n",
    "a1 = np.array([a_1, a_2 - 2 * a_1, a_3 - a_1])\n",
    "print(a)\n",
    "print(a1)"
   ]
  },
  {
   "cell_type": "markdown",
   "id": "ab5ab4be",
   "metadata": {},
   "source": [
    "x4 = c4 => -2 x3 = 4 - 3 c4 => x3 = 1.5 c4 - 4\n",
    "-x2 + 1.5 c4 - 4 + 5 c4 = -2 => x2 = 6.5 c4 -2\n",
    "x1 + 6.5 c4 - 2 - 1.5 c4 + 4 - 2 c4 = 0 => x1 = -3c4 - 2\n",
    "при c4 = 0, x1 = -2, x2 = -2, x3 = -4"
   ]
  },
  {
   "cell_type": "markdown",
   "id": "bd87fad0",
   "metadata": {},
   "source": [
    "2. Проверить на совместность и выяснить, сколько решений будет иметь система линейных уравнений:\n",
    "а)  ⎧⎩⎨⎪⎪3𝑥1−𝑥2+𝑥3=4,2𝑥1−5𝑥2−3𝑥3=−17,𝑥1+𝑥2−𝑥3=0; \n",
    "б)  ⎧⎩⎨⎪⎪2𝑥1−4𝑥2+6𝑥3=1,𝑥1−2𝑥2+3𝑥3=−2,3𝑥1−6𝑥2+9𝑥3=5; \n",
    "в)  {𝑥1+2𝑥2+5𝑥3=4,3𝑥1+𝑥2−8𝑥3=−2. "
   ]
  },
  {
   "cell_type": "code",
   "execution_count": 25,
   "id": "e1d712ae",
   "metadata": {},
   "outputs": [
    {
     "name": "stdout",
     "output_type": "stream",
     "text": [
      "3\n",
      "3\n"
     ]
    }
   ],
   "source": [
    "b1_1 = np.linalg.matrix_rank(np.array([[3, -1, 1], [2, -5, -3], [1, 1, -1]]))\n",
    "b1_2 = np.linalg.matrix_rank(np.array([[3, -1, 1, 4], [2, -5, -3, -17], [1, 1, -1, 0]]))\n",
    "print(b1_1)\n",
    "print(b1_2)\n",
    "# ранги совпадают между собой и с количеством переменных, матрицы совместны, одно решение"
   ]
  },
  {
   "cell_type": "code",
   "execution_count": 26,
   "id": "0b44e49d",
   "metadata": {},
   "outputs": [
    {
     "name": "stdout",
     "output_type": "stream",
     "text": [
      "1\n",
      "2\n"
     ]
    }
   ],
   "source": [
    "b2_1 = np.linalg.matrix_rank(np.array([[2, -4, 6], [1, -2, 3], [3, -6, 9]]))\n",
    "b2_2 = np.linalg.matrix_rank(np.array([[2, -4, 6, 1], [1, -2, 3, -2], [3, -6, 9, 5]]))\n",
    "print(b2_1)\n",
    "print(b2_2)\n",
    "# ранг расширенной матрицы выше, чем основной, система не имеет решений"
   ]
  },
  {
   "cell_type": "code",
   "execution_count": 27,
   "id": "772a98e9",
   "metadata": {},
   "outputs": [
    {
     "name": "stdout",
     "output_type": "stream",
     "text": [
      "2\n",
      "2\n"
     ]
    }
   ],
   "source": [
    "b3_1 = np.linalg.matrix_rank(np.array([[1, 2, 5], [3, 1, -8]]))\n",
    "b3_2 = np.linalg.matrix_rank(np.array([[1, 2, 5, 4], [3, 1, -8, -2]]))\n",
    "print(b3_1)\n",
    "print(b3_2)\n",
    "# ранги совпадают между собой но меньше количества переменных, матрицы совместны, решений бесконечно много"
   ]
  },
  {
   "cell_type": "markdown",
   "id": "b1cccb63",
   "metadata": {},
   "source": [
    "3. Проверить на совместность и выяснить, сколько решений будет иметь система линейных уравнений, заданная расширенной матрицей\n",
    "𝐴̃=⎛⎝⎜⎜⎜⎜10003500−20304102∣∣∣∣∣∣∣3241⎞⎠⎟⎟⎟⎟. "
   ]
  },
  {
   "cell_type": "code",
   "execution_count": 31,
   "id": "a269d0df",
   "metadata": {},
   "outputs": [
    {
     "name": "stdout",
     "output_type": "stream",
     "text": [
      "4\n",
      "4\n"
     ]
    }
   ],
   "source": [
    "c1_1 = np.linalg.matrix_rank(np.array([[1, 3, -2, 4], [0, 5, 0, 1], [0, 0, 3, 0], [0, 0, 0, 2]]))\n",
    "c1_2 = np.linalg.matrix_rank(np.array([[1, 3, -2, 4, 3], [0, 5, 0, 1, 2], [0, 0, 3, 0, 4],[0, 0, 0, 2, 1]]))\n",
    "print(c1_1)\n",
    "print(c1_2)\n",
    "# ранги совпадают между собой и с количеством переменных, матрицы совместны, одно решение"
   ]
  },
  {
   "cell_type": "markdown",
   "id": "32932466",
   "metadata": {},
   "source": [
    "4. Дана система линейных уравнений, заданная расширенной матрицей\n",
    "𝐴̃=⎛⎝⎜⎜147258369∣∣∣∣∣𝑎𝑏𝑐⎞⎠⎟⎟. \n",
    "Найти соотношение между параметрами  𝑎 ,  𝑏  и  𝑐 , при которых система является несовместной."
   ]
  },
  {
   "cell_type": "code",
   "execution_count": 37,
   "id": "2fe6b0db",
   "metadata": {},
   "outputs": [
    {
     "name": "stdout",
     "output_type": "stream",
     "text": [
      "[[1 2 3]\n",
      " [4 5 6]\n",
      " [7 8 9]]\n",
      "[[  1   2   3]\n",
      " [  0  -3  -6]\n",
      " [  0  -6 -12]]\n",
      "[[ 1  2  3]\n",
      " [ 0 -3 -6]\n",
      " [ 0  0  0]]\n"
     ]
    }
   ],
   "source": [
    "d_1 = np.array([1, 2, 3])\n",
    "d_2 = np.array([4, 5, 6])\n",
    "d_3 = np.array([7, 8, 9])\n",
    "d_4 = d_2 - 4 * d_1\n",
    "d_5 = d_3 - 7 * d_1\n",
    "d_6 = d_5 - 2 * d_4\n",
    "d = np.array([d_1, d_2, d_3])\n",
    "d1 = np.array([d_1, d_4, d_5])\n",
    "d2 = np.array([d_1, d_4, d_6])\n",
    "print(d)\n",
    "print(d1)\n",
    "print(d2)\n",
    "# система является несовместной при с !=0"
   ]
  },
  {
   "cell_type": "markdown",
   "id": "aaf4f92b",
   "metadata": {},
   "source": [
    "Часть 2\n",
    "1. Решить систему уравнений методом Крамера:\n",
    "а)  {𝑥1−2𝑥2=1 3𝑥1−4𝑥2=7 \n",
    "б)  ⎧⎩⎨⎪⎪2𝑥1−𝑥2+5𝑥3=10 𝑥1+𝑥2−3𝑥3=−2 2𝑥1+4𝑥2+𝑥3=1 "
   ]
  },
  {
   "cell_type": "code",
   "execution_count": 45,
   "id": "2248b384",
   "metadata": {},
   "outputs": [
    {
     "name": "stdout",
     "output_type": "stream",
     "text": [
      "2.0000000000000004\n",
      "9.999999999999998\n",
      "4.0\n"
     ]
    }
   ],
   "source": [
    "det_fa = np.linalg.det(np.array([[1, -2], [3, -4]]))\n",
    "det_fa_1 = np.linalg.det(np.array([[1, -2], [7, -4]]))\n",
    "det_fa_2 = np.linalg.det(np.array([[1, 1], [3, 7]]))\n",
    "print(det_fa)\n",
    "print(det_fa_1)\n",
    "print(det_fa_2)\n",
    "# x1 = 5, x2 = 2"
   ]
  },
  {
   "cell_type": "code",
   "execution_count": 46,
   "id": "d21daa88",
   "metadata": {},
   "outputs": [
    {
     "name": "stdout",
     "output_type": "stream",
     "text": [
      "42.99999999999998\n",
      "86.00000000000004\n",
      "-43.000000000000014\n",
      "42.99999999999998\n"
     ]
    }
   ],
   "source": [
    "det_fb = np.linalg.det(np.array([[2, -1, 5], [1, 1, -3], [2, 4, 1]]))\n",
    "det_fb_1 = np.linalg.det(np.array([[10, -1, 5], [-2, 1, -3], [1, 4, 1]]))\n",
    "det_fb_2 = np.linalg.det(np.array([[2, 10, 5], [1, -2, -3], [2, 1, 1]]))\n",
    "det_fb_3 = np.linalg.det(np.array([[2, -1, 10], [1, 1, -2], [2, 4, 1]]))\n",
    "print(det_fb)\n",
    "print(det_fb_1)\n",
    "print(det_fb_2)\n",
    "print(det_fb_3)\n",
    "# x1 = 2, x2 = -1, x3 = 1"
   ]
  },
  {
   "cell_type": "code",
   "execution_count": null,
   "id": "cbb49f09",
   "metadata": {},
   "outputs": [],
   "source": [
    "2*. Найти  𝐿 -матрицу  𝐿𝑈 -разложения для матрицы коэффициентов:\n",
    "а)\n",
    "⎛⎝⎜⎜123292641230⎞⎠⎟⎟ \n",
    "б)\n",
    "⎛⎝⎜⎜⎜⎜1234151822282953491833⎞⎠⎟⎟⎟⎟ "
   ]
  },
  {
   "cell_type": "code",
   "execution_count": 53,
   "id": "c932025e",
   "metadata": {},
   "outputs": [
    {
     "data": {
      "text/plain": [
       "array([[ 1,  2,  4],\n",
       "       [ 2,  9, 12],\n",
       "       [ 3, 26, 30]])"
      ]
     },
     "execution_count": 53,
     "metadata": {},
     "output_type": "execute_result"
    }
   ],
   "source": [
    "g_1 = np.array([[1, 2, 4], [2, 9, 12], [3, 26, 30]])\n",
    "g_1"
   ]
  },
  {
   "cell_type": "code",
   "execution_count": 52,
   "id": "81fb8505",
   "metadata": {},
   "outputs": [
    {
     "data": {
      "text/plain": [
       "(array([[0., 0., 1.],\n",
       "        [0., 1., 0.],\n",
       "        [1., 0., 0.]]),\n",
       " array([[1.        , 0.        , 0.        ],\n",
       "        [0.66666667, 1.        , 0.        ],\n",
       "        [0.33333333, 0.8       , 1.        ]]),\n",
       " array([[ 3.        , 26.        , 30.        ],\n",
       "        [ 0.        , -8.33333333, -8.        ],\n",
       "        [ 0.        ,  0.        ,  0.4       ]]))"
      ]
     },
     "execution_count": 52,
     "metadata": {},
     "output_type": "execute_result"
    }
   ],
   "source": [
    "g1_r = scipy.linalg.lu(g_1)\n",
    "g1_r\n",
    "# Вторая матрица и есть L"
   ]
  },
  {
   "cell_type": "code",
   "execution_count": 54,
   "id": "1dc1c461",
   "metadata": {},
   "outputs": [
    {
     "data": {
      "text/plain": [
       "array([[ 1,  1,  2,  4],\n",
       "       [ 2,  5,  8,  9],\n",
       "       [ 3, 18, 29, 18],\n",
       "       [ 4, 22, 53, 33]])"
      ]
     },
     "execution_count": 54,
     "metadata": {},
     "output_type": "execute_result"
    }
   ],
   "source": [
    "g_2 = np.array([[1, 1, 2, 4], [2, 5, 8, 9], [3, 18, 29, 18], [4, 22, 53, 33]])\n",
    "g_2"
   ]
  },
  {
   "cell_type": "code",
   "execution_count": 55,
   "id": "789b0cd5",
   "metadata": {},
   "outputs": [
    {
     "data": {
      "text/plain": [
       "(array([[0., 0., 0., 1.],\n",
       "        [0., 1., 0., 0.],\n",
       "        [0., 0., 1., 0.],\n",
       "        [1., 0., 0., 0.]]),\n",
       " array([[ 1.        ,  0.        ,  0.        ,  0.        ],\n",
       "        [ 0.5       ,  1.        ,  0.        ,  0.        ],\n",
       "        [ 0.75      , -0.25      ,  1.        ,  0.        ],\n",
       "        [ 0.25      ,  0.75      , -0.17073171,  1.        ]]),\n",
       " array([[  4.        ,  22.        ,  53.        ,  33.        ],\n",
       "        [  0.        ,  -6.        , -18.5       ,  -7.5       ],\n",
       "        [  0.        ,   0.        , -15.375     ,  -8.625     ],\n",
       "        [  0.        ,   0.        ,   0.        ,  -0.09756098]]))"
      ]
     },
     "execution_count": 55,
     "metadata": {},
     "output_type": "execute_result"
    }
   ],
   "source": [
    "g2_r = scipy.linalg.lu(g_2)\n",
    "g2_r\n",
    "# Вторая матрица и есть L"
   ]
  },
  {
   "cell_type": "code",
   "execution_count": 14,
   "id": "0e54c2ca",
   "metadata": {},
   "outputs": [
    {
     "data": {
      "text/plain": [
       "array([[11,  7,  5],\n",
       "       [ 9,  8,  4],\n",
       "       [ 2,  1,  3]])"
      ]
     },
     "execution_count": 14,
     "metadata": {},
     "output_type": "execute_result"
    }
   ],
   "source": [
    "h_1 = np.array([[11, 7, 5],[9, 8, 4], [2, 1, 3]])\n",
    "h_2 = [-6, -5, 1]\n",
    "h_1"
   ]
  },
  {
   "cell_type": "code",
   "execution_count": 15,
   "id": "0ddbf2c0",
   "metadata": {},
   "outputs": [
    {
     "data": {
      "text/plain": [
       "(array([[1., 0., 0.],\n",
       "        [0., 1., 0.],\n",
       "        [0., 0., 1.]]),\n",
       " array([[ 1.        ,  0.        ,  0.        ],\n",
       "        [ 0.81818182,  1.        ,  0.        ],\n",
       "        [ 0.18181818, -0.12      ,  1.        ]]),\n",
       " array([[11.        ,  7.        ,  5.        ],\n",
       "        [ 0.        ,  2.27272727, -0.09090909],\n",
       "        [ 0.        ,  0.        ,  2.08      ]]))"
      ]
     },
     "execution_count": 15,
     "metadata": {},
     "output_type": "execute_result"
    }
   ],
   "source": [
    "h1_r = scipy.linalg.lu(h_1)\n",
    "h1_r"
   ]
  },
  {
   "cell_type": "markdown",
   "id": "d9cd639e",
   "metadata": {},
   "source": [
    "y1 = -6\n",
    "9/11 y1 + y2 = -6 => y2 = -1/11\n",
    "2/11 * -6 - 0.12 * -1/11 + y3 = 1 => y3 = 2.08\n",
    "2.08 x3 = 2.08 => x3 = 1\n",
    "2 3/11 x2 - 1/11 * 1 = -1/11 => x2 = 0\n",
    "11 x1 + 7 * 0 + 5 * 1 = -6 => x1 = -1"
   ]
  },
  {
   "cell_type": "code",
   "execution_count": 33,
   "id": "0b6d5c14",
   "metadata": {},
   "outputs": [
    {
     "name": "stdout",
     "output_type": "stream",
     "text": [
      "-6 -0.09090908000000031 2.0799999903999997\n",
      "-0.9999999979020978 -9.99999968942511e-09 0.9999999953846153\n"
     ]
    }
   ],
   "source": [
    "y1 = -6\n",
    "y2 = -5 - 0.81818182 * y1\n",
    "y3 = 1 - 0.18181818 * y1 + 0.12 * y2\n",
    "x3 = y3/2.08\n",
    "x2 = -0.09090909 - y2\n",
    "x1 = (-6 - 5 * x3) / 11\n",
    "print(y1, y2, y3)\n",
    "print(x1, x2, x3)"
   ]
  },
  {
   "cell_type": "code",
   "execution_count": 53,
   "id": "c61794c8",
   "metadata": {},
   "outputs": [
    {
     "data": {
      "text/plain": [
       "(array([[  9.,  -5.,   5.],\n",
       "        [-45.,   5.,   2.],\n",
       "        [ 45., -15.,   3.]]),\n",
       " False)"
      ]
     },
     "execution_count": 53,
     "metadata": {},
     "output_type": "execute_result"
    }
   ],
   "source": [
    "i = np.array([[81, -45, 45],[-45, 50, -15], [45, -15, 38]])\n",
    "i_s = np.array([531, -460, 193])\n",
    "i_r = scipy.linalg.cholesky(i)\n",
    "i_chf = scipy.linalg.cho_factor(i)\n",
    "i_r_t = i_r.T\n",
    "i_chf"
   ]
  },
  {
   "cell_type": "code",
   "execution_count": 54,
   "id": "6a02d5f5",
   "metadata": {},
   "outputs": [
    {
     "data": {
      "text/plain": [
       "array([ 6., -5., -4.])"
      ]
     },
     "execution_count": 54,
     "metadata": {},
     "output_type": "execute_result"
    }
   ],
   "source": [
    "i_r_s = scipy.linalg.cho_solve(i_chf, i_s)\n",
    "i_r_s"
   ]
  },
  {
   "cell_type": "code",
   "execution_count": null,
   "id": "7a408ae8",
   "metadata": {},
   "outputs": [],
   "source": []
  }
 ],
 "metadata": {
  "kernelspec": {
   "display_name": "Python 3",
   "language": "python",
   "name": "python3"
  },
  "language_info": {
   "codemirror_mode": {
    "name": "ipython",
    "version": 3
   },
   "file_extension": ".py",
   "mimetype": "text/x-python",
   "name": "python",
   "nbconvert_exporter": "python",
   "pygments_lexer": "ipython3",
   "version": "3.8.8"
  }
 },
 "nbformat": 4,
 "nbformat_minor": 5
}
